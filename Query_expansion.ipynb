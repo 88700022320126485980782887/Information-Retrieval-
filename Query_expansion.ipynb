{
  "nbformat": 4,
  "nbformat_minor": 0,
  "metadata": {
    "colab": {
      "provenance": [],
      "authorship_tag": "ABX9TyOxjbpkkmth2KYnIyAxRhy/",
      "include_colab_link": true
    },
    "kernelspec": {
      "name": "python3",
      "display_name": "Python 3"
    },
    "language_info": {
      "name": "python"
    }
  },
  "cells": [
    {
      "cell_type": "markdown",
      "metadata": {
        "id": "view-in-github",
        "colab_type": "text"
      },
      "source": [
        "<a href=\"https://colab.research.google.com/github/imtithal/Information-Retrieval-/blob/main/Query_expansion.ipynb\" target=\"_parent\"><img src=\"https://colab.research.google.com/assets/colab-badge.svg\" alt=\"Open In Colab\"/></a>"
      ]
    },
    {
      "cell_type": "code",
      "execution_count": 1,
      "metadata": {
        "colab": {
          "base_uri": "https://localhost:8080/"
        },
        "id": "H5iTh1gCgDr6",
        "outputId": "e3ae088c-6e3b-4b8a-b19d-e32e8927b9a7"
      },
      "outputs": [
        {
          "output_type": "stream",
          "name": "stdout",
          "text": [
            "Top-K Documents:\n",
            "Document 1: The quick brown fox jumps over the lazy dog (Score: 0.5056)\n",
            "Document 3: Foxes are quick and brown animals (Score: 0.4235)\n",
            "\n",
            "Expanded Query:\n",
            "quick brown fox and over the jumps are foxes lazy animals dog\n",
            "\n",
            "Updated Document Scores with Expanded Query:\n",
            "Document 1: Score = 0.7916\n",
            "Document 2: Score = 0.2904\n",
            "Document 3: Score = 0.6831\n",
            "Document 4: Score = 0.2715\n",
            "Document 5: Score = 0.1496\n"
          ]
        }
      ],
      "source": [
        "from sklearn.feature_extraction.text import TfidfVectorizer\n",
        "import numpy as np\n",
        "from sklearn.metrics.pairwise import cosine_similarity\n",
        "\n",
        "# Step 1: Define the document corpus\n",
        "documents = [\n",
        "    \"The quick brown fox jumps over the lazy dog\",\n",
        "    \"A fast brown fox leaps over sleepy dogs in the park\",\n",
        "    \"Foxes are quick and brown animals\",\n",
        "    \"Dogs are loyal animals and love to play in the park\",\n",
        "    \"Lazy dogs enjoy sleeping and relaxing under trees\"\n",
        "]\n",
        "\n",
        "# Step 2: Define the initial query\n",
        "initial_query = \"quick brown fox\"\n",
        "\n",
        "# Step 3: Compute TF-IDF weights\n",
        "vectorizer = TfidfVectorizer()\n",
        "tfidf_matrix = vectorizer.fit_transform(documents)\n",
        "\n",
        "# Step 4: Vectorize the query\n",
        "query_vector = vectorizer.transform([initial_query])\n",
        "\n",
        "# Step 5: Compute cosine similarity between query and documents\n",
        "cosine_similarities = cosine_similarity(query_vector, tfidf_matrix).flatten()\n",
        "\n",
        "# Step 6: Retrieve top K documents (e.g., top 2)\n",
        "top_k_indices = np.argsort(cosine_similarities)[-2:][::-1]  # Get top 2 indices\n",
        "print(\"Top-K Documents:\")\n",
        "for idx in top_k_indices:\n",
        "    print(f\"Document {idx+1}: {documents[idx]} (Score: {cosine_similarities[idx]:.4f})\")\n",
        "\n",
        "# Step 7: Extract terms from the top K documents for query expansion\n",
        "top_k_docs = [documents[i] for i in top_k_indices]\n",
        "expanded_terms = set()\n",
        "\n",
        "for doc in top_k_docs:\n",
        "    for term in doc.split():\n",
        "        if term not in initial_query:  # Avoid terms already in the query\n",
        "            expanded_terms.add(term.lower())\n",
        "\n",
        "# Step 8: Expand the query\n",
        "expanded_query = initial_query + \" \" + \" \".join(expanded_terms)\n",
        "print(\"\\nExpanded Query:\")\n",
        "print(expanded_query)\n",
        "\n",
        "# Optional: Recompute similarity using the expanded query\n",
        "expanded_query_vector = vectorizer.transform([expanded_query])\n",
        "new_cosine_similarities = cosine_similarity(expanded_query_vector, tfidf_matrix).flatten()\n",
        "\n",
        "print(\"\\nUpdated Document Scores with Expanded Query:\")\n",
        "for idx, score in enumerate(new_cosine_similarities):\n",
        "    print(f\"Document {idx+1}: Score = {score:.4f}\")\n"
      ]
    }
  ]
}