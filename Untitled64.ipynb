{
  "nbformat": 4,
  "nbformat_minor": 0,
  "metadata": {
    "colab": {
      "provenance": [],
      "authorship_tag": "ABX9TyOpMpqWXWfR6TzRjYXNYybE",
      "include_colab_link": true
    },
    "kernelspec": {
      "name": "python3",
      "display_name": "Python 3"
    },
    "language_info": {
      "name": "python"
    }
  },
  "cells": [
    {
      "cell_type": "markdown",
      "metadata": {
        "id": "view-in-github",
        "colab_type": "text"
      },
      "source": [
        "<a href=\"https://colab.research.google.com/github/imtithal/Information-Retrieval-/blob/Code/Untitled64.ipynb\" target=\"_parent\"><img src=\"https://colab.research.google.com/assets/colab-badge.svg\" alt=\"Open In Colab\"/></a>"
      ]
    },
    {
      "cell_type": "code",
      "execution_count": 3,
      "metadata": {
        "colab": {
          "base_uri": "https://localhost:8080/"
        },
        "id": "aTkN_dLif08R",
        "outputId": "88eb0457-f9bb-4cb4-a33e-e803d30a1d4d"
      },
      "outputs": [
        {
          "output_type": "execute_result",
          "data": {
            "text/plain": [
              "{'doc0': 'This is the first day of the Information Retrieval Course',\n",
              " 'doc1': 'The course is in Arabic for Arab students',\n",
              " 'doc2': 'Today is May 30, 2021',\n",
              " 'doc3': 'We hope this course will benefit Arab students',\n",
              " 'doc4': 'Are you happy with this experience?'}"
            ]
          },
          "metadata": {},
          "execution_count": 3
        }
      ],
      "source": [
        "d0 = \"This is the first day of the Information Retrieval Course\"\n",
        "d1 = \"The course is in Arabic for Arab students\"\n",
        "d2 = \"Today is May 30, 2021\"\n",
        "d3 = \"We hope this course will benefit Arab students\"\n",
        "d4 = \"Are you happy with this experience?\"\n",
        "collection = {\"doc0\": d0,\n",
        "\"doc1\": d1,\n",
        "\"doc2\": d2,\n",
        "\"doc3\": d3,\n",
        "\"doc4\": d4}\n",
        "collection"
      ]
    },
    {
      "cell_type": "code",
      "source": [
        "boolean_operators = {'AND', 'OR', 'NOT'}"
      ],
      "metadata": {
        "id": "-l-pM5u6f7Hk"
      },
      "execution_count": 8,
      "outputs": []
    },
    {
      "cell_type": "code",
      "source": [
        "  #list of terms\n",
        "  def get_terms(data):\n",
        "        terms=[]\n",
        "        for doc in data:\n",
        "            for term in data[doc].split() :\n",
        "                terms.append(term)\n",
        "        return terms\n",
        "\n",
        "   #list of unique terms\n",
        "  def get_unique_terms(terms):\n",
        "        unique_terms=[]\n",
        "        for d in terms :\n",
        "            if d not in unique_terms:\n",
        "               unique_terms.append(d)\n",
        "        return unique_terms\n",
        "\n",
        "  #document collection terms\n",
        "  def get_document_collection_terms(data):\n",
        "        docs_colllection={}\n",
        "        for doc in data:\n",
        "            if doc not in boolean_operators :\n",
        "                docs_colllection[doc]=get_unique_terms(data[doc].split())\n",
        "        return docs_colllection\n",
        "\n",
        "  def display_dict(dic):\n",
        "        print(\"\\n\")\n",
        "        for i in dic:\n",
        "            print (i , \" : \" ,dic[i])\n",
        "        print(\"\\n\")\n",
        ""
      ],
      "metadata": {
        "id": "aEKhCp-GgCvb"
      },
      "execution_count": 1,
      "outputs": []
    },
    {
      "cell_type": "code",
      "source": [
        "#print our collection\n",
        "print(\"### documents content ###\")\n",
        "display_dict(collection)"
      ],
      "metadata": {
        "colab": {
          "base_uri": "https://localhost:8080/"
        },
        "id": "b8KzkmLEgH4p",
        "outputId": "a3940b9b-6457-4e43-aa37-cdc0fd6cfb79"
      },
      "execution_count": 4,
      "outputs": [
        {
          "output_type": "stream",
          "name": "stdout",
          "text": [
            "### documents content ###\n",
            "\n",
            "\n",
            "doc0  :  This is the first day of the Information Retrieval Course\n",
            "doc1  :  The course is in Arabic for Arab students\n",
            "doc2  :  Today is May 30, 2021\n",
            "doc3  :  We hope this course will benefit Arab students\n",
            "doc4  :  Are you happy with this experience?\n",
            "\n",
            "\n"
          ]
        }
      ]
    },
    {
      "cell_type": "code",
      "source": [
        "#print the terms available in the collection\n",
        "print (\"\\n### Terms in 5 docs ###\\n\" , *get_terms(collection) ,sep= \" | \")\n",
        "\n"
      ],
      "metadata": {
        "colab": {
          "base_uri": "https://localhost:8080/"
        },
        "id": "AkDwNEVIgUBz",
        "outputId": "f464b8a3-a904-4f50-b69e-20065d736362"
      },
      "execution_count": 5,
      "outputs": [
        {
          "output_type": "stream",
          "name": "stdout",
          "text": [
            "\n",
            "### Terms in 5 docs ###\n",
            " | This | is | the | first | day | of | the | Information | Retrieval | Course | The | course | is | in | Arabic | for | Arab | students | Today | is | May | 30, | 2021 | We | hope | this | course | will | benefit | Arab | students | Are | you | happy | with | this | experience?\n"
          ]
        }
      ]
    },
    {
      "cell_type": "code",
      "source": [
        "\n",
        "#print the unique_terms available in the collection\n",
        "terms=get_terms(collection)\n",
        "print (\"\\n### Unique Terms in 5 DOCs###\\n\", *get_unique_terms(terms) ,sep=\" | \")\n",
        "\n"
      ],
      "metadata": {
        "colab": {
          "base_uri": "https://localhost:8080/"
        },
        "id": "X7k-35yDgWST",
        "outputId": "c5044fc9-1673-40d6-9c18-8778c0479bc7"
      },
      "execution_count": 6,
      "outputs": [
        {
          "output_type": "stream",
          "name": "stdout",
          "text": [
            "\n",
            "### Unique Terms in 5 DOCs###\n",
            " | This | is | the | first | day | of | Information | Retrieval | Course | The | course | in | Arabic | for | Arab | students | Today | May | 30, | 2021 | We | hope | this | will | benefit | Are | you | happy | with | experience?\n"
          ]
        }
      ]
    },
    {
      "cell_type": "code",
      "source": [
        "\n",
        "#print the unique terms in each collection in a dictionary format\n",
        "print (\"\\n###Document terms Collection ###\" )\n",
        "display_dict(get_document_collection_terms(collection))"
      ],
      "metadata": {
        "colab": {
          "base_uri": "https://localhost:8080/"
        },
        "id": "xOwqYpcHgXwx",
        "outputId": "9c13e902-3a75-473d-ada9-6c0e78eda709"
      },
      "execution_count": 9,
      "outputs": [
        {
          "output_type": "stream",
          "name": "stdout",
          "text": [
            "\n",
            "###Document terms Collection ###\n",
            "\n",
            "\n",
            "doc0  :  ['This', 'is', 'the', 'first', 'day', 'of', 'Information', 'Retrieval', 'Course']\n",
            "doc1  :  ['The', 'course', 'is', 'in', 'Arabic', 'for', 'Arab', 'students']\n",
            "doc2  :  ['Today', 'is', 'May', '30,', '2021']\n",
            "doc3  :  ['We', 'hope', 'this', 'course', 'will', 'benefit', 'Arab', 'students']\n",
            "doc4  :  ['Are', 'you', 'happy', 'with', 'this', 'experience?']\n",
            "\n",
            "\n"
          ]
        }
      ]
    },
    {
      "cell_type": "code",
      "source": [
        "#this function takes the collection of documents in a form of dictionary as an input\n",
        "def term_document_incidence_matrix(collection):\n",
        "        ## list of terms from the data file collection\n",
        "        terms=get_terms(collection)\n",
        "        #list of unique terms\n",
        "        unique_terms=get_unique_terms(terms)\n",
        "        #Document collection terms\n",
        "        docs_terms=get_document_collection_terms(collection)\n",
        "        #TermDocumentIncidenceMatrix\n",
        "        term_docs_matrix={}\n",
        "        for term in unique_terms:\n",
        "            vector=[]\n",
        "            for c in docs_terms:\n",
        "\n",
        "                if term in docs_terms[c]:\n",
        "                    vector.append(1)\n",
        "                else :\n",
        "                    vector.append(0)\n",
        "\n",
        "            term_docs_matrix[term]=vector\n",
        "        return term_docs_matrix\n",
        "\n",
        "#this fucntion takes a term and a terms-document incidence matrix and returns the incidence vector of the term\n",
        "#this function just for explanation and display purposes\n",
        "def term_incidence_vector(term,term_docs_incid_matrix):\n",
        "    try:\n",
        "     return term_docs_incid_matrix[term]\n",
        "    except:\n",
        "     return \"term not found\""
      ],
      "metadata": {
        "id": "YF_uA-fvgptV"
      },
      "execution_count": 10,
      "outputs": []
    },
    {
      "cell_type": "code",
      "source": [
        "#build the term-document incidence matrix\n",
        "term_docs_incid_matrix=term_document_incidence_matrix(collection)\n",
        "print(\"Term-Document incidence Matrix\\n\")\n",
        "#formatted Display\n",
        "display_dict(term_docs_incid_matrix)\n"
      ],
      "metadata": {
        "colab": {
          "base_uri": "https://localhost:8080/"
        },
        "id": "2BcdwJxDgr8w",
        "outputId": "be8e30d6-1a61-4839-b01d-2ac741e34a38"
      },
      "execution_count": 11,
      "outputs": [
        {
          "output_type": "stream",
          "name": "stdout",
          "text": [
            "Term-Document incidence Matrix\n",
            "\n",
            "\n",
            "\n",
            "This  :  [1, 0, 0, 0, 0]\n",
            "is  :  [1, 1, 1, 0, 0]\n",
            "the  :  [1, 0, 0, 0, 0]\n",
            "first  :  [1, 0, 0, 0, 0]\n",
            "day  :  [1, 0, 0, 0, 0]\n",
            "of  :  [1, 0, 0, 0, 0]\n",
            "Information  :  [1, 0, 0, 0, 0]\n",
            "Retrieval  :  [1, 0, 0, 0, 0]\n",
            "Course  :  [1, 0, 0, 0, 0]\n",
            "The  :  [0, 1, 0, 0, 0]\n",
            "course  :  [0, 1, 0, 1, 0]\n",
            "in  :  [0, 1, 0, 0, 0]\n",
            "Arabic  :  [0, 1, 0, 0, 0]\n",
            "for  :  [0, 1, 0, 0, 0]\n",
            "Arab  :  [0, 1, 0, 1, 0]\n",
            "students  :  [0, 1, 0, 1, 0]\n",
            "Today  :  [0, 0, 1, 0, 0]\n",
            "May  :  [0, 0, 1, 0, 0]\n",
            "30,  :  [0, 0, 1, 0, 0]\n",
            "2021  :  [0, 0, 1, 0, 0]\n",
            "We  :  [0, 0, 0, 1, 0]\n",
            "hope  :  [0, 0, 0, 1, 0]\n",
            "this  :  [0, 0, 0, 1, 1]\n",
            "will  :  [0, 0, 0, 1, 0]\n",
            "benefit  :  [0, 0, 0, 1, 0]\n",
            "Are  :  [0, 0, 0, 0, 1]\n",
            "you  :  [0, 0, 0, 0, 1]\n",
            "happy  :  [0, 0, 0, 0, 1]\n",
            "with  :  [0, 0, 0, 0, 1]\n",
            "experience?  :  [0, 0, 0, 0, 1]\n",
            "\n",
            "\n"
          ]
        }
      ]
    },
    {
      "cell_type": "code",
      "source": [
        "print(\"Incidence Vector of 'Arab' \",term_incidence_vector('Arab',term_docs_incid_matrix))\n"
      ],
      "metadata": {
        "colab": {
          "base_uri": "https://localhost:8080/"
        },
        "id": "vE6xZE91gygw",
        "outputId": "a348ca59-60be-4d29-fcef-47ab683067e1"
      },
      "execution_count": 13,
      "outputs": [
        {
          "output_type": "stream",
          "name": "stdout",
          "text": [
            "Incidence Vector of 'Arab'  [0, 1, 0, 1, 0]\n"
          ]
        }
      ]
    },
    {
      "cell_type": "code",
      "source": [
        "#Query Filteration\n",
        "#input : Query\n",
        "#output : List of terms of a given query which match with the terms in our collection and the our defined boolean operators\n",
        "def query_filteration(query,collection):\n",
        "    terms= get_terms(collection)\n",
        "    unique_terms=get_unique_terms(terms)\n",
        "    qterms=[]\n",
        "    splitted_query=query.split()\n",
        "    for qterm in splitted_query:\n",
        "        if qterm in unique_terms or qterm in boolean_operators:\n",
        "          qterms.append(qterm)\n",
        "    return qterms"
      ],
      "metadata": {
        "id": "YuFCxpGPg6Sd"
      },
      "execution_count": 15,
      "outputs": []
    },
    {
      "cell_type": "code",
      "source": [
        "query=\"retrieve AND information AND cycle\"\n",
        "qterms=query_filteration(query,collection)\n",
        "print(qterms)"
      ],
      "metadata": {
        "colab": {
          "base_uri": "https://localhost:8080/"
        },
        "id": "a_JaPTLUhGGU",
        "outputId": "fbe1fb6b-7504-4381-c2f8-1126fc36a029"
      },
      "execution_count": 16,
      "outputs": [
        {
          "output_type": "stream",
          "name": "stdout",
          "text": [
            "['AND', 'AND']\n"
          ]
        }
      ]
    },
    {
      "cell_type": "code",
      "source": [
        "#and should be capitalized and Yemen is not in our collection\n",
        "query=\"retrieve and information AND Yemen\"\n",
        "qterms=query_filteration(query,collection)\n",
        "print(qterms)"
      ],
      "metadata": {
        "colab": {
          "base_uri": "https://localhost:8080/"
        },
        "id": "2bXkFk0mhXai",
        "outputId": "b526bed6-b22f-4a5f-de54-41787ee07fad"
      },
      "execution_count": 17,
      "outputs": [
        {
          "output_type": "stream",
          "name": "stdout",
          "text": [
            "['AND']\n"
          ]
        }
      ]
    },
    {
      "cell_type": "code",
      "source": [
        "# Boolean Operator Processing\n",
        "# input : Boolean Operator ,Next term Incedence Vector ,Previous term Incedence Vector\n",
        "def boolean_operator_processing(bool_operator,prevV,nextV):\n",
        "    if bool_operator == \"AND\":\n",
        "      return [a & b for a, b in zip(prevV, nextV)]\n",
        "    elif bool_operator==\"OR\" :\n",
        "      return [a | b for a, b in zip(prevV, nextV)]\n",
        "    elif bool_operator == \"NOT\":\n",
        "      return [1-a for a in prevV]"
      ],
      "metadata": {
        "id": "N-EzGqkthcPJ"
      },
      "execution_count": 22,
      "outputs": []
    },
    {
      "cell_type": "code",
      "source": [
        "v1=term_incidence_vector('Retrival',term_docs_incid_matrix)\n",
        "v2=term_incidence_vector('Cycle',term_docs_incid_matrix)\n",
        "v3=[]\n",
        "print('v1',v1)\n",
        "print('v2',v2)"
      ],
      "metadata": {
        "colab": {
          "base_uri": "https://localhost:8080/"
        },
        "id": "ocEbJbd0hfrO",
        "outputId": "980fbdba-4ec2-4120-9f7b-957c53f219a3"
      },
      "execution_count": 25,
      "outputs": [
        {
          "output_type": "stream",
          "name": "stdout",
          "text": [
            "v1 term not found\n",
            "v2 term not found\n"
          ]
        }
      ]
    },
    {
      "cell_type": "code",
      "source": [
        "print(boolean_operator_processing(\"AND\",v1,v2))\n",
        "\n",
        ""
      ],
      "metadata": {
        "colab": {
          "base_uri": "https://localhost:8080/",
          "height": 321
        },
        "id": "3E4DqjDhhglX",
        "outputId": "e986568f-8900-4e7f-a451-cb0ba17ad7b4"
      },
      "execution_count": 28,
      "outputs": [
        {
          "output_type": "error",
          "ename": "TypeError",
          "evalue": "unsupported operand type(s) for &: 'str' and 'str'",
          "traceback": [
            "\u001b[0;31m---------------------------------------------------------------------------\u001b[0m",
            "\u001b[0;31mTypeError\u001b[0m                                 Traceback (most recent call last)",
            "\u001b[0;32m<ipython-input-28-706cd478036f>\u001b[0m in \u001b[0;36m<cell line: 1>\u001b[0;34m()\u001b[0m\n\u001b[0;32m----> 1\u001b[0;31m \u001b[0mprint\u001b[0m\u001b[0;34m(\u001b[0m\u001b[0mboolean_operator_processing\u001b[0m\u001b[0;34m(\u001b[0m\u001b[0;34m\"AND\"\u001b[0m\u001b[0;34m,\u001b[0m\u001b[0mv1\u001b[0m\u001b[0;34m,\u001b[0m\u001b[0mv2\u001b[0m\u001b[0;34m)\u001b[0m\u001b[0;34m)\u001b[0m\u001b[0;34m\u001b[0m\u001b[0;34m\u001b[0m\u001b[0m\n\u001b[0m\u001b[1;32m      2\u001b[0m \u001b[0;34m\u001b[0m\u001b[0m\n\u001b[1;32m      3\u001b[0m \u001b[0;34m\u001b[0m\u001b[0m\n",
            "\u001b[0;32m<ipython-input-22-4cc7f14bcfc1>\u001b[0m in \u001b[0;36mboolean_operator_processing\u001b[0;34m(bool_operator, prevV, nextV)\u001b[0m\n\u001b[1;32m      3\u001b[0m \u001b[0;32mdef\u001b[0m \u001b[0mboolean_operator_processing\u001b[0m\u001b[0;34m(\u001b[0m\u001b[0mbool_operator\u001b[0m\u001b[0;34m,\u001b[0m\u001b[0mprevV\u001b[0m\u001b[0;34m,\u001b[0m\u001b[0mnextV\u001b[0m\u001b[0;34m)\u001b[0m\u001b[0;34m:\u001b[0m\u001b[0;34m\u001b[0m\u001b[0;34m\u001b[0m\u001b[0m\n\u001b[1;32m      4\u001b[0m     \u001b[0;32mif\u001b[0m \u001b[0mbool_operator\u001b[0m \u001b[0;34m==\u001b[0m \u001b[0;34m\"AND\"\u001b[0m\u001b[0;34m:\u001b[0m\u001b[0;34m\u001b[0m\u001b[0;34m\u001b[0m\u001b[0m\n\u001b[0;32m----> 5\u001b[0;31m       \u001b[0;32mreturn\u001b[0m \u001b[0;34m[\u001b[0m\u001b[0ma\u001b[0m \u001b[0;34m&\u001b[0m \u001b[0mb\u001b[0m \u001b[0;32mfor\u001b[0m \u001b[0ma\u001b[0m\u001b[0;34m,\u001b[0m \u001b[0mb\u001b[0m \u001b[0;32min\u001b[0m \u001b[0mzip\u001b[0m\u001b[0;34m(\u001b[0m\u001b[0mprevV\u001b[0m\u001b[0;34m,\u001b[0m \u001b[0mnextV\u001b[0m\u001b[0;34m)\u001b[0m\u001b[0;34m]\u001b[0m\u001b[0;34m\u001b[0m\u001b[0;34m\u001b[0m\u001b[0m\n\u001b[0m\u001b[1;32m      6\u001b[0m     \u001b[0;32melif\u001b[0m \u001b[0mbool_operator\u001b[0m\u001b[0;34m==\u001b[0m\u001b[0;34m\"OR\"\u001b[0m \u001b[0;34m:\u001b[0m\u001b[0;34m\u001b[0m\u001b[0;34m\u001b[0m\u001b[0m\n\u001b[1;32m      7\u001b[0m       \u001b[0;32mreturn\u001b[0m \u001b[0;34m[\u001b[0m\u001b[0ma\u001b[0m \u001b[0;34m|\u001b[0m \u001b[0mb\u001b[0m \u001b[0;32mfor\u001b[0m \u001b[0ma\u001b[0m\u001b[0;34m,\u001b[0m \u001b[0mb\u001b[0m \u001b[0;32min\u001b[0m \u001b[0mzip\u001b[0m\u001b[0;34m(\u001b[0m\u001b[0mprevV\u001b[0m\u001b[0;34m,\u001b[0m \u001b[0mnextV\u001b[0m\u001b[0;34m)\u001b[0m\u001b[0;34m]\u001b[0m\u001b[0;34m\u001b[0m\u001b[0;34m\u001b[0m\u001b[0m\n",
            "\u001b[0;32m<ipython-input-22-4cc7f14bcfc1>\u001b[0m in \u001b[0;36m<listcomp>\u001b[0;34m(.0)\u001b[0m\n\u001b[1;32m      3\u001b[0m \u001b[0;32mdef\u001b[0m \u001b[0mboolean_operator_processing\u001b[0m\u001b[0;34m(\u001b[0m\u001b[0mbool_operator\u001b[0m\u001b[0;34m,\u001b[0m\u001b[0mprevV\u001b[0m\u001b[0;34m,\u001b[0m\u001b[0mnextV\u001b[0m\u001b[0;34m)\u001b[0m\u001b[0;34m:\u001b[0m\u001b[0;34m\u001b[0m\u001b[0;34m\u001b[0m\u001b[0m\n\u001b[1;32m      4\u001b[0m     \u001b[0;32mif\u001b[0m \u001b[0mbool_operator\u001b[0m \u001b[0;34m==\u001b[0m \u001b[0;34m\"AND\"\u001b[0m\u001b[0;34m:\u001b[0m\u001b[0;34m\u001b[0m\u001b[0;34m\u001b[0m\u001b[0m\n\u001b[0;32m----> 5\u001b[0;31m       \u001b[0;32mreturn\u001b[0m \u001b[0;34m[\u001b[0m\u001b[0ma\u001b[0m \u001b[0;34m&\u001b[0m \u001b[0mb\u001b[0m \u001b[0;32mfor\u001b[0m \u001b[0ma\u001b[0m\u001b[0;34m,\u001b[0m \u001b[0mb\u001b[0m \u001b[0;32min\u001b[0m \u001b[0mzip\u001b[0m\u001b[0;34m(\u001b[0m\u001b[0mprevV\u001b[0m\u001b[0;34m,\u001b[0m \u001b[0mnextV\u001b[0m\u001b[0;34m)\u001b[0m\u001b[0;34m]\u001b[0m\u001b[0;34m\u001b[0m\u001b[0;34m\u001b[0m\u001b[0m\n\u001b[0m\u001b[1;32m      6\u001b[0m     \u001b[0;32melif\u001b[0m \u001b[0mbool_operator\u001b[0m\u001b[0;34m==\u001b[0m\u001b[0;34m\"OR\"\u001b[0m \u001b[0;34m:\u001b[0m\u001b[0;34m\u001b[0m\u001b[0;34m\u001b[0m\u001b[0m\n\u001b[1;32m      7\u001b[0m       \u001b[0;32mreturn\u001b[0m \u001b[0;34m[\u001b[0m\u001b[0ma\u001b[0m \u001b[0;34m|\u001b[0m \u001b[0mb\u001b[0m \u001b[0;32mfor\u001b[0m \u001b[0ma\u001b[0m\u001b[0;34m,\u001b[0m \u001b[0mb\u001b[0m \u001b[0;32min\u001b[0m \u001b[0mzip\u001b[0m\u001b[0;34m(\u001b[0m\u001b[0mprevV\u001b[0m\u001b[0;34m,\u001b[0m \u001b[0mnextV\u001b[0m\u001b[0;34m)\u001b[0m\u001b[0;34m]\u001b[0m\u001b[0;34m\u001b[0m\u001b[0;34m\u001b[0m\u001b[0m\n",
            "\u001b[0;31mTypeError\u001b[0m: unsupported operand type(s) for &: 'str' and 'str'"
          ]
        }
      ]
    },
    {
      "cell_type": "code",
      "source": [
        "print(boolean_operator_processing(\"OR\",v1,v2))"
      ],
      "metadata": {
        "colab": {
          "base_uri": "https://localhost:8080/",
          "height": 287
        },
        "id": "8AP4HcfliL2h",
        "outputId": "c982c9ef-342a-4c66-d849-ce5fb509a050"
      },
      "execution_count": 29,
      "outputs": [
        {
          "output_type": "error",
          "ename": "TypeError",
          "evalue": "unsupported operand type(s) for |: 'str' and 'str'",
          "traceback": [
            "\u001b[0;31m---------------------------------------------------------------------------\u001b[0m",
            "\u001b[0;31mTypeError\u001b[0m                                 Traceback (most recent call last)",
            "\u001b[0;32m<ipython-input-29-504b20067130>\u001b[0m in \u001b[0;36m<cell line: 1>\u001b[0;34m()\u001b[0m\n\u001b[0;32m----> 1\u001b[0;31m \u001b[0mprint\u001b[0m\u001b[0;34m(\u001b[0m\u001b[0mboolean_operator_processing\u001b[0m\u001b[0;34m(\u001b[0m\u001b[0;34m\"OR\"\u001b[0m\u001b[0;34m,\u001b[0m\u001b[0mv1\u001b[0m\u001b[0;34m,\u001b[0m\u001b[0mv2\u001b[0m\u001b[0;34m)\u001b[0m\u001b[0;34m)\u001b[0m\u001b[0;34m\u001b[0m\u001b[0;34m\u001b[0m\u001b[0m\n\u001b[0m",
            "\u001b[0;32m<ipython-input-22-4cc7f14bcfc1>\u001b[0m in \u001b[0;36mboolean_operator_processing\u001b[0;34m(bool_operator, prevV, nextV)\u001b[0m\n\u001b[1;32m      5\u001b[0m       \u001b[0;32mreturn\u001b[0m \u001b[0;34m[\u001b[0m\u001b[0ma\u001b[0m \u001b[0;34m&\u001b[0m \u001b[0mb\u001b[0m \u001b[0;32mfor\u001b[0m \u001b[0ma\u001b[0m\u001b[0;34m,\u001b[0m \u001b[0mb\u001b[0m \u001b[0;32min\u001b[0m \u001b[0mzip\u001b[0m\u001b[0;34m(\u001b[0m\u001b[0mprevV\u001b[0m\u001b[0;34m,\u001b[0m \u001b[0mnextV\u001b[0m\u001b[0;34m)\u001b[0m\u001b[0;34m]\u001b[0m\u001b[0;34m\u001b[0m\u001b[0;34m\u001b[0m\u001b[0m\n\u001b[1;32m      6\u001b[0m     \u001b[0;32melif\u001b[0m \u001b[0mbool_operator\u001b[0m\u001b[0;34m==\u001b[0m\u001b[0;34m\"OR\"\u001b[0m \u001b[0;34m:\u001b[0m\u001b[0;34m\u001b[0m\u001b[0;34m\u001b[0m\u001b[0m\n\u001b[0;32m----> 7\u001b[0;31m       \u001b[0;32mreturn\u001b[0m \u001b[0;34m[\u001b[0m\u001b[0ma\u001b[0m \u001b[0;34m|\u001b[0m \u001b[0mb\u001b[0m \u001b[0;32mfor\u001b[0m \u001b[0ma\u001b[0m\u001b[0;34m,\u001b[0m \u001b[0mb\u001b[0m \u001b[0;32min\u001b[0m \u001b[0mzip\u001b[0m\u001b[0;34m(\u001b[0m\u001b[0mprevV\u001b[0m\u001b[0;34m,\u001b[0m \u001b[0mnextV\u001b[0m\u001b[0;34m)\u001b[0m\u001b[0;34m]\u001b[0m\u001b[0;34m\u001b[0m\u001b[0;34m\u001b[0m\u001b[0m\n\u001b[0m\u001b[1;32m      8\u001b[0m     \u001b[0;32melif\u001b[0m \u001b[0mbool_operator\u001b[0m \u001b[0;34m==\u001b[0m \u001b[0;34m\"NOT\"\u001b[0m\u001b[0;34m:\u001b[0m\u001b[0;34m\u001b[0m\u001b[0;34m\u001b[0m\u001b[0m\n\u001b[1;32m      9\u001b[0m       \u001b[0;32mreturn\u001b[0m \u001b[0;34m[\u001b[0m\u001b[0;36m1\u001b[0m\u001b[0;34m-\u001b[0m\u001b[0ma\u001b[0m \u001b[0;32mfor\u001b[0m \u001b[0ma\u001b[0m \u001b[0;32min\u001b[0m \u001b[0mprevV\u001b[0m\u001b[0;34m]\u001b[0m\u001b[0;34m\u001b[0m\u001b[0;34m\u001b[0m\u001b[0m\n",
            "\u001b[0;32m<ipython-input-22-4cc7f14bcfc1>\u001b[0m in \u001b[0;36m<listcomp>\u001b[0;34m(.0)\u001b[0m\n\u001b[1;32m      5\u001b[0m       \u001b[0;32mreturn\u001b[0m \u001b[0;34m[\u001b[0m\u001b[0ma\u001b[0m \u001b[0;34m&\u001b[0m \u001b[0mb\u001b[0m \u001b[0;32mfor\u001b[0m \u001b[0ma\u001b[0m\u001b[0;34m,\u001b[0m \u001b[0mb\u001b[0m \u001b[0;32min\u001b[0m \u001b[0mzip\u001b[0m\u001b[0;34m(\u001b[0m\u001b[0mprevV\u001b[0m\u001b[0;34m,\u001b[0m \u001b[0mnextV\u001b[0m\u001b[0;34m)\u001b[0m\u001b[0;34m]\u001b[0m\u001b[0;34m\u001b[0m\u001b[0;34m\u001b[0m\u001b[0m\n\u001b[1;32m      6\u001b[0m     \u001b[0;32melif\u001b[0m \u001b[0mbool_operator\u001b[0m\u001b[0;34m==\u001b[0m\u001b[0;34m\"OR\"\u001b[0m \u001b[0;34m:\u001b[0m\u001b[0;34m\u001b[0m\u001b[0;34m\u001b[0m\u001b[0m\n\u001b[0;32m----> 7\u001b[0;31m       \u001b[0;32mreturn\u001b[0m \u001b[0;34m[\u001b[0m\u001b[0ma\u001b[0m \u001b[0;34m|\u001b[0m \u001b[0mb\u001b[0m \u001b[0;32mfor\u001b[0m \u001b[0ma\u001b[0m\u001b[0;34m,\u001b[0m \u001b[0mb\u001b[0m \u001b[0;32min\u001b[0m \u001b[0mzip\u001b[0m\u001b[0;34m(\u001b[0m\u001b[0mprevV\u001b[0m\u001b[0;34m,\u001b[0m \u001b[0mnextV\u001b[0m\u001b[0;34m)\u001b[0m\u001b[0;34m]\u001b[0m\u001b[0;34m\u001b[0m\u001b[0;34m\u001b[0m\u001b[0m\n\u001b[0m\u001b[1;32m      8\u001b[0m     \u001b[0;32melif\u001b[0m \u001b[0mbool_operator\u001b[0m \u001b[0;34m==\u001b[0m \u001b[0;34m\"NOT\"\u001b[0m\u001b[0;34m:\u001b[0m\u001b[0;34m\u001b[0m\u001b[0;34m\u001b[0m\u001b[0m\n\u001b[1;32m      9\u001b[0m       \u001b[0;32mreturn\u001b[0m \u001b[0;34m[\u001b[0m\u001b[0;36m1\u001b[0m\u001b[0;34m-\u001b[0m\u001b[0ma\u001b[0m \u001b[0;32mfor\u001b[0m \u001b[0ma\u001b[0m \u001b[0;32min\u001b[0m \u001b[0mprevV\u001b[0m\u001b[0;34m]\u001b[0m\u001b[0;34m\u001b[0m\u001b[0;34m\u001b[0m\u001b[0m\n",
            "\u001b[0;31mTypeError\u001b[0m: unsupported operand type(s) for |: 'str' and 'str'"
          ]
        }
      ]
    },
    {
      "cell_type": "code",
      "source": [
        "print(boolean_operator_processing(\"NOT\",v1,v3))"
      ],
      "metadata": {
        "colab": {
          "base_uri": "https://localhost:8080/",
          "height": 252
        },
        "id": "PQ91h95_iUYg",
        "outputId": "8ee58872-02b3-491b-c9dc-e4d02bb0b646"
      },
      "execution_count": 30,
      "outputs": [
        {
          "output_type": "error",
          "ename": "TypeError",
          "evalue": "unsupported operand type(s) for -: 'int' and 'str'",
          "traceback": [
            "\u001b[0;31m---------------------------------------------------------------------------\u001b[0m",
            "\u001b[0;31mTypeError\u001b[0m                                 Traceback (most recent call last)",
            "\u001b[0;32m<ipython-input-30-6eae4c57fde4>\u001b[0m in \u001b[0;36m<cell line: 1>\u001b[0;34m()\u001b[0m\n\u001b[0;32m----> 1\u001b[0;31m \u001b[0mprint\u001b[0m\u001b[0;34m(\u001b[0m\u001b[0mboolean_operator_processing\u001b[0m\u001b[0;34m(\u001b[0m\u001b[0;34m\"NOT\"\u001b[0m\u001b[0;34m,\u001b[0m\u001b[0mv1\u001b[0m\u001b[0;34m,\u001b[0m\u001b[0mv3\u001b[0m\u001b[0;34m)\u001b[0m\u001b[0;34m)\u001b[0m\u001b[0;34m\u001b[0m\u001b[0;34m\u001b[0m\u001b[0m\n\u001b[0m",
            "\u001b[0;32m<ipython-input-22-4cc7f14bcfc1>\u001b[0m in \u001b[0;36mboolean_operator_processing\u001b[0;34m(bool_operator, prevV, nextV)\u001b[0m\n\u001b[1;32m      7\u001b[0m       \u001b[0;32mreturn\u001b[0m \u001b[0;34m[\u001b[0m\u001b[0ma\u001b[0m \u001b[0;34m|\u001b[0m \u001b[0mb\u001b[0m \u001b[0;32mfor\u001b[0m \u001b[0ma\u001b[0m\u001b[0;34m,\u001b[0m \u001b[0mb\u001b[0m \u001b[0;32min\u001b[0m \u001b[0mzip\u001b[0m\u001b[0;34m(\u001b[0m\u001b[0mprevV\u001b[0m\u001b[0;34m,\u001b[0m \u001b[0mnextV\u001b[0m\u001b[0;34m)\u001b[0m\u001b[0;34m]\u001b[0m\u001b[0;34m\u001b[0m\u001b[0;34m\u001b[0m\u001b[0m\n\u001b[1;32m      8\u001b[0m     \u001b[0;32melif\u001b[0m \u001b[0mbool_operator\u001b[0m \u001b[0;34m==\u001b[0m \u001b[0;34m\"NOT\"\u001b[0m\u001b[0;34m:\u001b[0m\u001b[0;34m\u001b[0m\u001b[0;34m\u001b[0m\u001b[0m\n\u001b[0;32m----> 9\u001b[0;31m       \u001b[0;32mreturn\u001b[0m \u001b[0;34m[\u001b[0m\u001b[0;36m1\u001b[0m\u001b[0;34m-\u001b[0m\u001b[0ma\u001b[0m \u001b[0;32mfor\u001b[0m \u001b[0ma\u001b[0m \u001b[0;32min\u001b[0m \u001b[0mprevV\u001b[0m\u001b[0;34m]\u001b[0m\u001b[0;34m\u001b[0m\u001b[0;34m\u001b[0m\u001b[0m\n\u001b[0m",
            "\u001b[0;32m<ipython-input-22-4cc7f14bcfc1>\u001b[0m in \u001b[0;36m<listcomp>\u001b[0;34m(.0)\u001b[0m\n\u001b[1;32m      7\u001b[0m       \u001b[0;32mreturn\u001b[0m \u001b[0;34m[\u001b[0m\u001b[0ma\u001b[0m \u001b[0;34m|\u001b[0m \u001b[0mb\u001b[0m \u001b[0;32mfor\u001b[0m \u001b[0ma\u001b[0m\u001b[0;34m,\u001b[0m \u001b[0mb\u001b[0m \u001b[0;32min\u001b[0m \u001b[0mzip\u001b[0m\u001b[0;34m(\u001b[0m\u001b[0mprevV\u001b[0m\u001b[0;34m,\u001b[0m \u001b[0mnextV\u001b[0m\u001b[0;34m)\u001b[0m\u001b[0;34m]\u001b[0m\u001b[0;34m\u001b[0m\u001b[0;34m\u001b[0m\u001b[0m\n\u001b[1;32m      8\u001b[0m     \u001b[0;32melif\u001b[0m \u001b[0mbool_operator\u001b[0m \u001b[0;34m==\u001b[0m \u001b[0;34m\"NOT\"\u001b[0m\u001b[0;34m:\u001b[0m\u001b[0;34m\u001b[0m\u001b[0;34m\u001b[0m\u001b[0m\n\u001b[0;32m----> 9\u001b[0;31m       \u001b[0;32mreturn\u001b[0m \u001b[0;34m[\u001b[0m\u001b[0;36m1\u001b[0m\u001b[0;34m-\u001b[0m\u001b[0ma\u001b[0m \u001b[0;32mfor\u001b[0m \u001b[0ma\u001b[0m \u001b[0;32min\u001b[0m \u001b[0mprevV\u001b[0m\u001b[0;34m]\u001b[0m\u001b[0;34m\u001b[0m\u001b[0;34m\u001b[0m\u001b[0m\n\u001b[0m",
            "\u001b[0;31mTypeError\u001b[0m: unsupported operand type(s) for -: 'int' and 'str'"
          ]
        }
      ]
    },
    {
      "cell_type": "code",
      "source": [
        "# Boolean retrieval function\n",
        "# input : Query\n",
        "def boolean_retrieval(query,collection):\n",
        "        #build a terms_documents incidence matrix\n",
        "        term_docs_incid_matrix=term_document_incidence_matrix(collection)\n",
        "        bitwiseop=\"\"\n",
        "        #get the query terms\n",
        "        qterms=query_filteration(query,collection)\n",
        "        result=[]\n",
        "        result_set={}\n",
        "        has_previous_term=False\n",
        "        has_not_operation=False\n",
        "        inc_vec_prev=[]\n",
        "        inc_vec_next=[]\n",
        "        for term in qterms :\n",
        "            if term not in boolean_operators:\n",
        "                if  has_not_operation:\n",
        "                    if has_previous_term:\n",
        "                         inc_vec_next=boolean_operator_processing(\"NOT\",term_docs_incid_matrix[term],inc_vec_next)\n",
        "                    else :\n",
        "                        inc_vec_prev=boolean_operator_processing(\"NOT\",term_docs_incid_matrix[term],inc_vec_next)\n",
        "                        result=inc_vec_prev\n",
        "                    has_not_operation=False\n",
        "\n",
        "                elif  has_previous_term:\n",
        "\n",
        "                    inc_vec_next=term_docs_incid_matrix[term]\n",
        "                else :\n",
        "\n",
        "                    inc_vec_prev=term_docs_incid_matrix[term]\n",
        "                    result= inc_vec_prev\n",
        "                    has_previous_term=True\n",
        "\n",
        "            elif term ==\"NOT\":\n",
        "                 has_not_operation=True\n",
        "\n",
        "            else :\n",
        "                bitwiseop=term\n",
        "\n",
        "            if  len(inc_vec_next)!= 0  :\n",
        "                result = boolean_operator_processing(bitwiseop,inc_vec_prev,inc_vec_next)\n",
        "                inc_vec_prev=result\n",
        "                has_previous_term=True\n",
        "                inc_vec_next= []\n",
        "\n",
        "        for i,doc in zip(result,collection):\n",
        "            result_set[doc]=i\n",
        "        return result_set"
      ],
      "metadata": {
        "id": "mVgnt9jAiRgx"
      },
      "execution_count": 31,
      "outputs": []
    },
    {
      "cell_type": "code",
      "source": [
        "#print the collection to check whether the boolean retrieval output is correct or not easily\n",
        "collection\n",
        ""
      ],
      "metadata": {
        "colab": {
          "base_uri": "https://localhost:8080/"
        },
        "id": "FllA8QI2ieqY",
        "outputId": "eae0dba9-6d0c-4b92-8fa9-be2975991c35"
      },
      "execution_count": 32,
      "outputs": [
        {
          "output_type": "execute_result",
          "data": {
            "text/plain": [
              "{'doc0': 'This is the first day of the Information Retrieval Course',\n",
              " 'doc1': 'The course is in Arabic for Arab students',\n",
              " 'doc2': 'Today is May 30, 2021',\n",
              " 'doc3': 'We hope this course will benefit Arab students',\n",
              " 'doc4': 'Are you happy with this experience?'}"
            ]
          },
          "metadata": {},
          "execution_count": 32
        }
      ]
    },
    {
      "cell_type": "code",
      "source": [
        "\n",
        "\n",
        "query1 = \"retreive OR workshop OR happy\"\n",
        "print(\"query1 boolean retrieval \",boolean_retrieval(query1,collection))\n",
        "\n"
      ],
      "metadata": {
        "colab": {
          "base_uri": "https://localhost:8080/"
        },
        "id": "sBvnQndVjCIl",
        "outputId": "1e7232c7-e82f-40bb-ec14-8a5828082696"
      },
      "execution_count": 33,
      "outputs": [
        {
          "output_type": "stream",
          "name": "stdout",
          "text": [
            "query1 boolean retrieval  {'doc0': 0, 'doc1': 0, 'doc2': 0, 'doc3': 0, 'doc4': 1}\n"
          ]
        }
      ]
    },
    {
      "cell_type": "code",
      "source": [
        "\n",
        "v1=term_incidence_vector(\"Retreive\",term_docs_incid_matrix)\n",
        "v1\n"
      ],
      "metadata": {
        "id": "Be_2iX5fjH-C"
      },
      "execution_count": null,
      "outputs": []
    },
    {
      "cell_type": "code",
      "source": [
        "\n",
        "\n",
        "v2=term_incidence_vector(\"Workshop\",term_docs_incid_matrix)\n",
        "v2\n"
      ],
      "metadata": {
        "id": "zTP-PhK9jK8g"
      },
      "execution_count": null,
      "outputs": []
    },
    {
      "cell_type": "code",
      "source": [
        "\n",
        "\n",
        "Qpart1=boolean_operator_processing(\"OR\",v1,v2)\n",
        "Qpart1\n"
      ],
      "metadata": {
        "id": "TSMOKbaxjNMF"
      },
      "execution_count": null,
      "outputs": []
    },
    {
      "cell_type": "code",
      "source": [
        "\n",
        "\n",
        "v3=term_incidence_vector(\"Happy\",term_docs_incid_matrix)\n",
        "v3\n",
        ""
      ],
      "metadata": {
        "id": "VxtOOvn1jPb2"
      },
      "execution_count": null,
      "outputs": []
    },
    {
      "cell_type": "code",
      "source": [
        "\n",
        "\n",
        "boolean_operator_processing(\"OR\",Qpart1,v3)\n",
        "\n"
      ],
      "metadata": {
        "colab": {
          "base_uri": "https://localhost:8080/",
          "height": 159
        },
        "id": "SNfURI2djSvm",
        "outputId": "0f888ace-53b1-44f8-9362-bf33c6c6d841"
      },
      "execution_count": 37,
      "outputs": [
        {
          "output_type": "error",
          "ename": "NameError",
          "evalue": "name 'Qpart1' is not defined",
          "traceback": [
            "\u001b[0;31m---------------------------------------------------------------------------\u001b[0m",
            "\u001b[0;31mNameError\u001b[0m                                 Traceback (most recent call last)",
            "\u001b[0;32m<ipython-input-37-a0525999c738>\u001b[0m in \u001b[0;36m<cell line: 1>\u001b[0;34m()\u001b[0m\n\u001b[0;32m----> 1\u001b[0;31m \u001b[0mboolean_operator_processing\u001b[0m\u001b[0;34m(\u001b[0m\u001b[0;34m\"OR\"\u001b[0m\u001b[0;34m,\u001b[0m\u001b[0mQpart1\u001b[0m\u001b[0;34m,\u001b[0m\u001b[0mv3\u001b[0m\u001b[0;34m)\u001b[0m\u001b[0;34m\u001b[0m\u001b[0;34m\u001b[0m\u001b[0m\n\u001b[0m\u001b[1;32m      2\u001b[0m \u001b[0;34m\u001b[0m\u001b[0m\n",
            "\u001b[0;31mNameError\u001b[0m: name 'Qpart1' is not defined"
          ]
        }
      ]
    },
    {
      "cell_type": "code",
      "source": [
        "\n",
        "#print the collection to check whether the boolean retrieval output is correct or not easily\n",
        "collection\n",
        ""
      ],
      "metadata": {
        "colab": {
          "base_uri": "https://localhost:8080/"
        },
        "id": "cEjzV7szjVID",
        "outputId": "3899aad6-7b8c-4801-f0b5-268962996df6"
      },
      "execution_count": 36,
      "outputs": [
        {
          "output_type": "execute_result",
          "data": {
            "text/plain": [
              "{'doc0': 'This is the first day of the Information Retrieval Course',\n",
              " 'doc1': 'The course is in Arabic for Arab students',\n",
              " 'doc2': 'Today is May 30, 2021',\n",
              " 'doc3': 'We hope this course will benefit Arab students',\n",
              " 'doc4': 'Are you happy with this experience?'}"
            ]
          },
          "metadata": {},
          "execution_count": 36
        }
      ]
    },
    {
      "cell_type": "code",
      "source": [
        "\n",
        "\n",
        "query2 = \"retreive AND Information AND NOT Arab\"\n",
        "print(\"query2 boolean retrieval \",boolean_retrieval(query2,collection))\n",
        "\n"
      ],
      "metadata": {
        "colab": {
          "base_uri": "https://localhost:8080/"
        },
        "id": "7g4MqXPJjW8W",
        "outputId": "c4f752da-1a81-40f4-f551-583d4c406f92"
      },
      "execution_count": 35,
      "outputs": [
        {
          "output_type": "stream",
          "name": "stdout",
          "text": [
            "query2 boolean retrieval  {'doc0': 1, 'doc1': 0, 'doc2': 0, 'doc3': 0, 'doc4': 0}\n"
          ]
        }
      ]
    },
    {
      "cell_type": "code",
      "source": [
        "\n",
        "query3 = \"Arab AND NOT Information\"\n",
        "print(\"query3 boolean retrieval result \",boolean_retrieval(query3,collection))\n",
        ""
      ],
      "metadata": {
        "colab": {
          "base_uri": "https://localhost:8080/"
        },
        "id": "tT_hA15EjYN0",
        "outputId": "fea8ba4e-13b0-42db-bddf-da533a5768a2"
      },
      "execution_count": 34,
      "outputs": [
        {
          "output_type": "stream",
          "name": "stdout",
          "text": [
            "query3 boolean retrieval result  {'doc0': 0, 'doc1': 1, 'doc2': 0, 'doc3': 1, 'doc4': 0}\n"
          ]
        }
      ]
    },
    {
      "cell_type": "code",
      "source": [
        "Exercise1\n",
        "Find the documents that contain the word Happy or Course but does not contain the word Arabs"
      ],
      "metadata": {
        "id": "fmpw4ZuhjYU2"
      },
      "execution_count": null,
      "outputs": []
    },
    {
      "cell_type": "code",
      "source": [],
      "metadata": {
        "id": "pDZtX8PAjlmj"
      },
      "execution_count": null,
      "outputs": []
    }
  ]
}